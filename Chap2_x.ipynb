{
 "cells": [
  {
   "cell_type": "markdown",
   "metadata": {},
   "source": [
    "## Chapter 2, Two-Body Problems <font size=2>  \n",
    "Curtis, Howard D., Orbital Mechanics for Engineering Students, 2nd ed., 2009\n",
    "Example 2.12 (p.116), 2.13 (p.123)  \n",
    "Ellipse Variables:  \n",
    "a: Semi-major axis  \n",
    "e: Eccentricity  \n",
    "i: Inclination  \n",
    "omega: Argument of perihelion  \n",
    "Omega: Longitude of the ascending node  \n",
    "nu (or theta): True anomaly  \n",
    "E: Elliptic, parabolic or hyperbolic eccentric anomaly  \n",
    "M: Mean anomaly  "
   ]
  },
  {
   "cell_type": "code",
   "execution_count": 2,
   "metadata": {},
   "outputs": [
    {
     "name": "stdout",
     "output_type": "stream",
     "text": [
      "a. eccentricity= 0.2098391233387736\n",
      "b. angular momentum  57171.981125258346\n",
      "c. periapsis velocity= 8.43493377475042\n",
      "d. aposis velocity= 5.508959445486447\n",
      "e. semimajor axis= 8578.0\n",
      "f. orbit period= 7906.609392566981 [s],  2.1962803868241614 [hr]\n",
      "g. averaged true anomaly radius; Not sure what this is for...\n",
      "g. 8387.018779041811 [km]\n",
      "h. true anomaly when r=r_theta_avg...\n",
      "i. satellite speed when r=r_theta_avg...\n",
      "j. flight path angle when r=r_theta_avg...\n",
      "k. max flight path angle ...\n"
     ]
    }
   ],
   "source": [
    "# Example 2.7 (p.95); elliptical orbits\n",
    "# Given earth satellite with periapsis & aposis altitudes\n",
    "# Find: various  orbital elements\n",
    "import numpy as np\n",
    "\n",
    "mu_e = 3.986e5  # earth mu [km^3/s^2]\n",
    "r_ea = 6378  # earth radius [km]\n",
    "zp_ea = 400  # satellite's earth altitude[km]\n",
    "za_ea = 4000  # satellite's earth altitude[km]\n",
    "\n",
    "# (a)\n",
    "rp = r_ea + zp_ea  # peripsis radius; around earth\n",
    "ra = r_ea + za_ea  # aposis radius; around earth\n",
    "ecc = (ra - rp) / (ra + rp)  # eccentricity\n",
    "print(\"a. eccentricity=\", ecc)\n",
    "# (b)\n",
    "h = np.sqrt(rp * (mu_e * (1 + ecc)))  # [km^2/s]\n",
    "print(\"b. angular momentum \", h)\n",
    "# (c)\n",
    "vp = h / rp\n",
    "print(\"c. periapsis velocity=\", vp)\n",
    "# (d)\n",
    "va = h / ra\n",
    "print(\"d. aposis velocity=\", va)\n",
    "# (e)\n",
    "a = (ra + rp) / 2\n",
    "print(\"e. semimajor axis=\", a)\n",
    "# (f)\n",
    "T = (2 * np.pi / np.sqrt(mu_e)) * a ** (3 / 2)\n",
    "print(\"f. orbit period=\", T, \"[s], \", T / 3600, \"[hr]\")\n",
    "# (g)\n",
    "r_theta_avg = np.sqrt(ra * rp)\n",
    "print(\"g. averaged true anomaly radius; Not sure what this is for...\")\n",
    "print(\"g.\", r_theta_avg, \"[km]\")\n",
    "# (h) not yet calculated below...\n",
    "print(\"h. true anomaly when r=r_theta_avg...\")\n",
    "# (i)\n",
    "print(\"i. satellite speed when r=r_theta_avg...\")\n",
    "# (j)\n",
    "print(\"j. flight path angle when r=r_theta_avg...\")\n",
    "# (k)\n",
    "print(\"k. max flight path angle ...\")"
   ]
  },
  {
   "cell_type": "code",
   "execution_count": 1,
   "metadata": {},
   "outputs": [
    {
     "name": "stdout",
     "output_type": "stream",
     "text": [
      "a. eccentricity= 0.0816414157736165\n",
      "b. satellite altitude at periapsis= 595.4701125641222 [km]\n",
      "c. satellite semimajor axis= 7593.406575971092 [km]\n",
      "d. orbital period= 1.8292105667485672 [hr]\n"
     ]
    }
   ],
   "source": [
    "# Example 2.8 (p.98); elliptical orbits\n",
    "# Given earth satellite; 2 altitudes with true anomalies\n",
    "# Find: eccentricity. altitude of periapsis, semimajor axis, orbital period\n",
    "import numpy as np\n",
    "\n",
    "mu_e = 3.986e5  # earth mu [km^3/s^2]\n",
    "r_ea = 6378  # earth radius [km]\n",
    "\n",
    "z1 = 1545  # satellite's earth altitude[km]\n",
    "r1 = z1 + r_ea\n",
    "r1_theta_deg = 126  # true anomaly at r1\n",
    "r1_theta = r1_theta_deg * np.pi / 180\n",
    "\n",
    "z2 = 852  # satellite's earth altitude[km]\n",
    "r2 = z2 + r_ea  # satellite's earth altitude[km]\n",
    "r2_theta_deg = 58  # true anomaly at r2\n",
    "r2_theta = r2_theta_deg * np.pi / 180\n",
    "\n",
    "# (a) find eccentricity\n",
    "#   used Maple to vefify my algebra for the eccentricity relationship to r1, r2, theta1, theta2\n",
    "ecc = (r1 - r2) / (r2 * np.cos(r2_theta) - r1 * np.cos(r1_theta))  # eccentricity\n",
    "print(\"a. eccentricity=\", ecc)\n",
    "\n",
    "# (b) find periapsis altitude\n",
    "# angular momentum^2 used in several calculations\n",
    "h_sq = r1 * mu_e * (1 + ecc * np.cos(r1_theta))\n",
    "rp = h_sq / (mu_e * (1 + ecc))  # radius at periapsis\n",
    "zp = rp - r_ea\n",
    "print(\"b. satellite altitude at periapsis=\", zp, \"[km]\")\n",
    "\n",
    "# (c) find semimajor axis\n",
    "ra = h_sq / (mu_e * (1 - ecc))  # radius at periapsis\n",
    "a = (rp + ra) / 2\n",
    "print(\"c. satellite semimajor axis=\", a, \"[km]\")\n",
    "\n",
    "# (d) find orbital period\n",
    "T = (2 * np.pi / np.sqrt(mu_e)) * (a ** (3 / 2))  # [s]\n",
    "T_hr = T / (60 * 60)  # [hr]\n",
    "print(\"d. orbital period=\", T_hr, \"[hr]\")"
   ]
  }
 ],
 "metadata": {
  "kernelspec": {
   "display_name": ".venv",
   "language": "python",
   "name": "python3"
  },
  "language_info": {
   "codemirror_mode": {
    "name": "ipython",
    "version": 3
   },
   "file_extension": ".py",
   "mimetype": "text/x-python",
   "name": "python",
   "nbconvert_exporter": "python",
   "pygments_lexer": "ipython3",
   "version": "3.12.1"
  }
 },
 "nbformat": 4,
 "nbformat_minor": 2
}
