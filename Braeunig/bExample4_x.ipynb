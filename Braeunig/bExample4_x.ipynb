{
 "cells": [
  {
   "cell_type": "markdown",
   "metadata": {},
   "source": [
    "# Braeunig, Interplanetary Flight: section 4.<font size=3>\n",
    "\n",
    "Orbital Mechanics.\n",
    "\n",
    "Good space flight explanations & examples; circa 2012, by R.A. Braeunig http://www.braeunig.us/space/interpl.htm \\\n",
    "https://www.scss.tcd.ie/Stephen.Farrell/ipn/background/Braeunig/index.htm \\\n",
    "Pretty reasonable space flight tutorials by NASA; https://science.nasa.gov/learn/basics-of-space-flight/\n"
   ]
  },
  {
   "cell_type": "markdown",
   "metadata": {},
   "source": [
    "## Example 4.22: Orbit Plane Changes.<font size=3>\n",
    "\n",
    "http://www.braeunig.us/space/problem.htm#4.22\n",
    "\n",
    "In some instances a plane change is used to alter an orbit's longitude of ascending node in addition to the inclination. An example might be a maneuver to correct out-of-plane errors to make the orbits of two space vehicles coplanar in preparation for a rendezvous. If the orbital elements of the initial and final orbits are known, the plane change angle is determined by the vector dot product. If ii and i are the inclination and longitude of ascending node of the initial orbit, and if and f are the inclination and longitude of ascending node of the final orbit, then the angle between the orbital planes, , is given by\n",
    "\n",
    "A satellite is in a parking orbit with an altitude of 200 km and an inclination of 28 degrees. Calculate the total velocity change required to transfer the satellite to a zero-inclination geosynchronous orbit using a Hohmann transfer with a combined plane change at apogee.\n"
   ]
  }
 ],
 "metadata": {
  "language_info": {
   "name": "python"
  }
 },
 "nbformat": 4,
 "nbformat_minor": 2
}
