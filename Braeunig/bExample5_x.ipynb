{
 "cells": [
  {
   "cell_type": "markdown",
   "metadata": {},
   "source": [
    "# Braeunig, Interplanetary Flight<font size=3>\n",
    "\n",
    "Good space flight explanations & examples; circa 2012, by R.A. Braeunig http://www.braeunig.us/space/interpl.htm \\\n",
    "https://www.scss.tcd.ie/Stephen.Farrell/ipn/background/Braeunig/index.htm \\\n",
    "Pretty reasonable space flight tutorials by NASA; https://science.nasa.gov/learn/basics-of-space-flight/\n"
   ]
  },
  {
   "cell_type": "markdown",
   "metadata": {},
   "source": [
    "## Example 5.1: One-tangent burn<font size=3>\n",
    "\n",
    "Calculate the change in true anomaly and the time-of-flight for a transfer from Earth to Mars. \\\n",
    "The radius vector of Earth at departure is 1.000 AU and Mars at arrival is 1.524 AU. \\\n",
    "Given the transfer orbit semi-major axis is 1.300 AU (atx), larger than r_earth + r_mars / 2.\n"
   ]
  },
  {
   "cell_type": "code",
   "execution_count": 1,
   "metadata": {},
   "outputs": [
    {
     "name": "stdout",
     "output_type": "stream",
     "text": [
      "Braeunig, problem 5.1, One-Tangent Burn Earth->Mars:\n",
      "sma_t= 1.3 [AU], 1.94477e+08 [km]\n",
      "eccentricity transfer, ecc_t = 0.23077\n",
      "transfer true anomaly, nu_t = 2.5567 [rad], 146.488 [deg]\n",
      "eccentric anomaly, Ec_t = 2.41383 [rad]\n",
      "time of flight, tof_t = 1.682744e+07 [s], 194.7621 [days], 6.492069 [mo]\n"
     ]
    }
   ],
   "source": [
    "# http://www.braeunig.us/space/interpl.htm\n",
    "# Braeuning Example 5.1, One-Tangent Burn Earth->Mars\n",
    "import math\n",
    "\n",
    "print(\"Braeunig, problem 5.1, One-Tangent Burn Earth->Mars:\")\n",
    "mu_sun_km = 1.327124e11  # [km^3/s^2]\n",
    "au = 149.5978e6  # [km/au], for unit conversions\n",
    "r_earth_orb = 149.5978e6  # earth orbit [km]\n",
    "rA = 1.000  # given [AU], earth orbit\n",
    "rB = 1.524  # given [AU], mars orbit\n",
    "sma_t = 1.3  # given [AU], transfer semi-major axis (not a Hohmann sma)\n",
    "\n",
    "a_t = sma_t * au  # [km], convert atx units\n",
    "print(f\"sma_t= {sma_t:.5g} [AU], {a_t:.6g} [km]\")\n",
    "\n",
    "ecc_t = 1 - rA / sma_t  # eccentricity transfer\n",
    "print(f\"eccentricity transfer, ecc_t = {ecc_t:.5g}\")\n",
    "\n",
    "nu_t = math.acos((sma_t * (1 - ecc_t**2) / rB - 1) / ecc_t)\n",
    "print(\n",
    "    f\"transfer true anomaly, nu_t = {nu_t:.5g} [rad], {nu_t * 180 / math.pi:.6g} [deg]\"\n",
    ")\n",
    "\n",
    "Ec_t = math.acos(\n",
    "    (ecc_t + math.cos(nu_t)) / (1 + ecc_t * math.cos(nu_t))\n",
    ")  # eccentric angle/anomaly\n",
    "print(f\"eccentric anomaly, Ec_t = {Ec_t:.6g} [rad]\")\n",
    "\n",
    "# time of flight, orbit transfer\n",
    "tof_t = (Ec_t - ecc_t * math.sin(Ec_t)) * math.sqrt(a_t**3 / mu_sun_km)\n",
    "print(\n",
    "    f\"time of flight, tof_t = {tof_t:.7g} [s], {tof_t/(3600*24):.7g} [days], {tof_t/(30*24*3600):.7g} [mo]\"\n",
    ")"
   ]
  },
  {
   "cell_type": "markdown",
   "metadata": {},
   "source": [
    "## Example 5.2: Departure phase angle<font size=3>\n",
    "\n",
    "From example 5.1 calculate dparture phase angle given Mars angular velocity is 0.5240 degrees/day.\n"
   ]
  },
  {
   "cell_type": "code",
   "execution_count": 2,
   "metadata": {},
   "outputs": [
    {
     "name": "stdout",
     "output_type": "stream",
     "text": [
      "Braeunig, Example 5.2, Departure phase angle Earth->Mars:\n",
      "Mars circular orbital speed = 24.127 [km/s]\n",
      "Mars period, T_mars = 687.19 [days]\n",
      "Mars orbit angular velocity 0.52387 [deg/day]\n",
      "departure Earth->Mars phase angle, gamma1 = 44.457 [deg]\n"
     ]
    }
   ],
   "source": [
    "# Braeuning Example 5.2, Departure phase angle Earth->Mars\n",
    "# First, verify Mars average angular velocity; assume circular orbit\n",
    "# spacecraft speed in 300km circular parking orbit; eqn 8.41\n",
    "print(\"Braeunig, Example 5.2, Departure phase angle Earth->Mars:\")\n",
    "r_mars_orb = rB * au  # [km] mars orbit convert [au]->[km]\n",
    "v_mars = math.sqrt(mu_sun_km / (r_mars_orb))  # velocity circular parking orbit\n",
    "print(f\"Mars circular orbital speed = {v_mars:.5g} [km/s]\")\n",
    "\n",
    "T_mars = 2 * math.pi * r_mars_orb / v_mars  # [s]\n",
    "print(f\"Mars period, T_mars = {T_mars/(3600*24):.5g} [days]\")\n",
    "\n",
    "av_mars = 2 * math.pi / (T_mars / (3600 * 24))  # [rad/day] angular velocity, omega\n",
    "print(f\"Mars orbit angular velocity {av_mars * 180 / math.pi:.5g} [deg/day]\")\n",
    "\n",
    "gamma1 = nu_t - av_mars * tof_t / (3600 * 24)  # [rad]\n",
    "print(f\"departure Earth->Mars phase angle, gamma1 = {gamma1 * 180 / math.pi:.5g} [deg]\")"
   ]
  },
  {
   "cell_type": "markdown",
   "metadata": {},
   "source": [
    "## Example 5.3: Mars mission<font size=3>\n",
    "\n",
    "Calculate the semi-latus rectum (parameter) and, semi-major axis of the transfer orbit. \\\n",
    "Given, positions in ecliptic reference plane. \\\n",
    "Given, Mars mission launch 2020-07-20, 0:00 UT. \\\n",
    "Given, time of flight 207 days; 2021-02-12, 0:00 UT. \\\n",
    "Given, launch from Earth position 0.473265X - 0.899215Y AU. \\\n",
    "Given, arrive/intercept Mars at position 0.066842X + 1.561256Y + 0.030948Z AU. \\\n",
    "\n",
    "Check positions above from JPL Horizons on-line app, https://ssd.jpl.nasa.gov/horizons/app.html#/ \\\n",
    "Earth position wrt solar system barycenter (DE441): \\\n",
    "2459050.500000000 = A.D. 2020-Jul-20 00:00:00.0000 TDB \\\n",
    "X = 4.633095745083921E-01 Y =-8.948007962713294E-01 Z = 1.091633094137138E-04 [AU] \\\n",
    "VX= 1.498348874010272E-02 VY= 7.870068607971240E-03 VZ=-7.907827207274999E-07 [AU/day] \\\n",
    "LT= 5.819602794270452E-03 RG= 1.007632988123940E+00 RR=-9.939129802142340E-05 [AU/day] \\\n",
    "\n",
    "Mars position wrt solar system barycenter (DE441): \\\n",
    "2459257.500000000 = A.D. 2021-Feb-12 00:00:00.0000 TDB \\\n",
    "X = 6.779098085928444E-02 Y = 1.566649403585406E+00 Z = 3.099175810073858E-02 [AU] \\\n",
    "VX=-1.345489659304601E-02 VY= 1.850539144408298E-03 VZ= 3.690183442873574E-04 [AU/day] \\\n",
    "LT= 9.058447968391227E-03 RG= 1.568421646085818E+00 RR= 1.274186658762432E-03 [AU/day] \\\n"
   ]
  },
  {
   "cell_type": "code",
   "execution_count": 3,
   "metadata": {},
   "outputs": [
    {
     "name": "stdout",
     "output_type": "stream",
     "text": [
      "Braeunig, problem 5.3 related; verify Braeunig given ephemeris:\n",
      "Astropy ephemeris uses equatorial (not ecliptic), solar system barycentric [au]:\n",
      "earth pos(ts0), astropy equatorial, [ 69310232.3965742 -122820867.5314126 -53231578.4313738] km\n",
      "earth pos(ts0), astropy equatorial, [ 0.4633103 -0.8210068 -0.3558311] AU\n",
      "earth vel(ts0), astropy equatorial, [ 25.9432640  12.5027829  5.4191274] km / s\n",
      "\n",
      "earth pos(ts0), astropy ecliptic, [ 0.4633103 -0.8948005  0.0001092] AU\n",
      "earth pos(ts0), astropy ecliptic, 1.0076330477222823 AU\n",
      "earth vel(ts0), astropy, ecliptic, 29.30425684368041 km / s\n",
      "earth vel(ts0), astropy, ecliptic, [ 25.9432640  13.6266841 -0.0013713] km / s\n",
      "\n",
      "mars pos(ts1), astropy equatorial, [ 10141492.6196665  213183731.2491689  97479732.3766279] km\n",
      "mars pos(ts1), astropy equatorial, [ 0.0677917  1.4250452  0.6516118] AU\n",
      "mars vel(ts1), astropy equatorial, [-23.2965727  2.6855751  1.8607446] km / s\n",
      "\n",
      "mars pos(ts1), astropy ecliptic [ 0.0677917  1.5666497  0.0309914] AU\n",
      "mars orbit radius(ts1), 1.5684219764160652 AU\n",
      "mars orbit velocity(ts1), 23.524561282242196 km / s\n"
     ]
    }
   ],
   "source": [
    "# Braeunig, problem 5.3 related; verify Braeunig given ephemeris:\n",
    "# http://www.braeunig.us/space/interpl.htm\n",
    "#   Start off, find ecliptic coordinates; Earth depart, Mars arrive\n",
    "# use astropy units, to() method to change units: {earth_t0.xyz.to(u.au)})\n",
    "from braeunigFunctions import rotate_coordinates, dot_product_angle\n",
    "import numpy as np\n",
    "from astropy.time import Time\n",
    "import astropy.units as u\n",
    "from astropy.coordinates import (\n",
    "    solar_system_ephemeris,\n",
    "    get_body_barycentric_posvel,\n",
    ")\n",
    "\n",
    "print(\"Braeunig, problem 5.3 related; verify Braeunig given ephemeris:\")\n",
    "# tdb runs at uniform rate of one SI second per second; independent of Earth rotation irregularities.\n",
    "ts0 = Time(\"2020-07-20 0:0\", scale=\"tdb\")\n",
    "tof_t = 207 * u.day\n",
    "ts1 = ts0 + tof_t  # t2 is 207 days later than t1# t2 is 207 days later than t1\n",
    "\n",
    "# commented ephemeris, below, use DE441, 3.3GByte file!!\n",
    "# solar_system_ephemeris.set(\"ftp://ssd.jpl.nasa.gov/pub/eph/planets/bsp/de441.bsp\")\n",
    "# earth_t0 = get_body_barycentric('earth', t0)\n",
    "# mars_t1 = get_body_barycentric('mars', t1)\n",
    "\n",
    "print(\n",
    "    \"Astropy ephemeris uses equatorial (not ecliptic), solar system barycentric [au]:\"\n",
    ")\n",
    "# with solar_system_ephemeris.set(\"builtin\"):\n",
    "with solar_system_ephemeris.set(\"de430\"):  # times between years 1550 to 2650\n",
    "    # astropy provides equatorial (not ecliptic)\n",
    "    earthBc_pv = get_body_barycentric_posvel(\"earth\", ts0)  # position & velocity\n",
    "    marsBc_pv = get_body_barycentric_posvel(\"mars\", ts1)\n",
    "\n",
    "# find ecliptic coordinates & velocities; rotate equatorial by earth plane tilt (X-axis)\n",
    "earth_xyz_ecl = rotate_coordinates(earthBc_pv[0].xyz.to(u.au), -23.4393)\n",
    "mars_xyz_ecl = rotate_coordinates(marsBc_pv[0].xyz.to(u.au), -23.4393)\n",
    "earth_vel_ecl = rotate_coordinates(earthBc_pv[1].xyz.to(u.km / u.s), -23.4393)\n",
    "mars_vel_ecl = rotate_coordinates(marsBc_pv[1].xyz.to(u.km / u.s), -23.4393)\n",
    "\n",
    "np.set_printoptions(formatter={\"float\": \"{: 0.7f}\".format})\n",
    "print(f\"earth pos(ts0), astropy equatorial, {earthBc_pv[0].xyz.to(u.km)}\")  # [km]\n",
    "print(f\"earth pos(ts0), astropy equatorial, {earthBc_pv[0].xyz.to(u.au)}\")  # [au]\n",
    "print(f\"earth vel(ts0), astropy equatorial, {earthBc_pv[1].xyz.to(u.km / u.s)}\")\n",
    "print()\n",
    "print(f\"earth pos(ts0), astropy ecliptic, {earth_xyz_ecl}\")\n",
    "print(f\"earth pos(ts0), astropy ecliptic, {np.linalg.norm(earthBc_pv[0].xyz.to(u.au))}\")\n",
    "print(f\"earth vel(ts0), astropy, ecliptic, {np.linalg.norm(earth_vel_ecl)}\")\n",
    "print(f\"earth vel(ts0), astropy, ecliptic, {earth_vel_ecl.to(u.km / u.s)}\")\n",
    "print()\n",
    "print(f\"mars pos(ts1), astropy equatorial, {marsBc_pv[0].xyz.to(u.km)}\")\n",
    "print(f\"mars pos(ts1), astropy equatorial, {marsBc_pv[0].xyz.to(u.au)}\")\n",
    "print(f\"mars vel(ts1), astropy equatorial, {marsBc_pv[1].xyz.to(u.km / u.s)}\")\n",
    "print()\n",
    "print(f\"mars pos(ts1), astropy ecliptic {mars_xyz_ecl}\")\n",
    "print(f\"mars orbit radius(ts1), {np.linalg.norm(mars_xyz_ecl.to(u.au))}\")\n",
    "print(f\"mars orbit velocity(ts1), {np.linalg.norm(mars_vel_ecl)}\")"
   ]
  },
  {
   "cell_type": "code",
   "execution_count": 4,
   "metadata": {},
   "outputs": [
    {
     "name": "stdout",
     "output_type": "stream",
     "text": [
      "Earth->Mars phase angle, earth_mars_phase= 150.128 deg\n"
     ]
    }
   ],
   "source": [
    "# Braeunig, problem 5.3 related; verify Braeunig Earth->Mars phase angle:\n",
    "#   Find angle between departure and arrival.\n",
    "earth_mars_phase = dot_product_angle(earth_xyz_ecl, mars_xyz_ecl)\n",
    "print(f\"Earth->Mars phase angle, earth_mars_phase= {earth_mars_phase:.6g}\")"
   ]
  },
  {
   "cell_type": "code",
   "execution_count": 5,
   "metadata": {},
   "outputs": [
    {
     "name": "stdout",
     "output_type": "stream",
     "text": [
      "earth pos(t0), [ 0.4633103 -0.8948005  0.0001092] AU\n",
      "mars pos(t1), [ 0.0677917  1.5666497  0.0309914] AU\n",
      "time of flight, tof_t=17884800.0 s\n"
     ]
    }
   ],
   "source": [
    "# Braeunig, problem 5.3 related; verify Braeunig given ephemeris:\n",
    "print(f\"earth pos(t0), {earth_xyz_ecl}\")\n",
    "print(f\"mars pos(t1), {mars_xyz_ecl}\")\n",
    "print(f\"time of flight, tof_t={(ts1-ts0).to(u.s)}\")"
   ]
  },
  {
   "cell_type": "code",
   "execution_count": 8,
   "metadata": {},
   "outputs": [
    {
     "name": "stdout",
     "output_type": "stream",
     "text": [
      "r1_mag= 1.0161532 [au], r2_mag= 1.5629926\n",
      "p= 1.2506324 [au], sma= 1.3209705 [au], tof= 17884798 [s], 206.99998 [day]\n"
     ]
    }
   ],
   "source": [
    "# Braeunig, problem 5.3, calculate semi-latus rectum (parameter) and,\n",
    "#   semi-major axis of the transfer orbit.\n",
    "#   Use Braeunig lambert/gauss method (b_gauss) to get orbital parameters.\n",
    "# NOTE b_gauss() is NOT a general purpose Lambert solver; its inital settings are\n",
    "#   given not calculated; use vallado2013(), or others, for general solutions.\n",
    "from braeunigFunctions import b_gauss\n",
    "import numpy as np\n",
    "\n",
    "# Vector magnitude, initial and final position\n",
    "# commented out r1_vec & r2_vec values, below, come from astropy; section above\n",
    "# r1_vec = np.array([0.4633103, -0.8948005,  0.0001092])  # earth(t0) position [AU]\n",
    "# r2_vec = np.array([0.0677917,  1.5666497,  0.0309914])  # mars(t1) position [AU]\n",
    "r1_vec = np.array([0.473265, -0.899215, 0.0])  # earth(t0) position [AU]\n",
    "r2_vec = np.array([0.066842, 1.561256, 0.030948])  # mars(t1) position [AU]\n",
    "r1_mag, r2_mag = [np.linalg.norm(r) for r in [r1_vec, r2_vec]]\n",
    "print(f\"r1_mag= {r1_mag:.8g} [au], r2_mag= {r2_mag:.8g}\")\n",
    "\n",
    "GM = 3.964016e-14  # [au^3/s^2]\n",
    "delta_nu = 149.770967  # [deg]\n",
    "tof = 207 * 24 * 60 * 60  # [s]\n",
    "\n",
    "p, sma, tof, f, g, f_dot, g_dot = b_gauss(\n",
    "    r1=r1_mag, r2=r2_mag, delta_nu=delta_nu, tof=tof, GM=GM\n",
    ")\n",
    "print(\n",
    "    f\"p= {p:.8g} [au], sma= {sma:.8g} [au], tof= {tof:.8g} [s], {(tof/(24*3600)):.8g} [day]\"\n",
    ")"
   ]
  }
 ],
 "metadata": {
  "kernelspec": {
   "display_name": ".venv",
   "language": "python",
   "name": "python3"
  },
  "language_info": {
   "codemirror_mode": {
    "name": "ipython",
    "version": 3
   },
   "file_extension": ".py",
   "mimetype": "text/x-python",
   "name": "python",
   "nbconvert_exporter": "python",
   "pygments_lexer": "ipython3",
   "version": "3.12.3"
  }
 },
 "nbformat": 4,
 "nbformat_minor": 2
}
