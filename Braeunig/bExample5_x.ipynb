{
 "cells": [
  {
   "cell_type": "markdown",
   "metadata": {},
   "source": [
    "# Braeunig, Interplanetary Flight\n",
    "\n",
    "Good space flight explanations & examples; circa 2012, by R.A. Braeunig http://www.braeunig.us/space/interpl.htm \\\n",
    "https://www.scss.tcd.ie/Stephen.Farrell/ipn/background/Braeunig/index.htm \\\n",
    "Pretty reasonable space flight tutorials by NASA; https://science.nasa.gov/learn/basics-of-space-flight/\n"
   ]
  },
  {
   "cell_type": "markdown",
   "metadata": {},
   "source": [
    "## Example 5.1\n",
    "\n",
    "One-tangent burn; calculate the change in true anomaly and the time-of-flight for a transfer from Earth to Mars. \\\n",
    "The radius vector of Earth at departure is 1.000 AU and Mars at arrival is 1.524 AU. \\\n",
    "Given the transfer orbit semi-major axis is 1.300 AU (atx), larger than r_earth + r_mars / 2.\n"
   ]
  },
  {
   "cell_type": "code",
   "execution_count": 14,
   "metadata": {},
   "outputs": [
    {
     "name": "stdout",
     "output_type": "stream",
     "text": [
      "Ex5.1, One-Tangent Burn to Mars:\n",
      "atx = 1.3 [AU], 1.94477e+08 [km]\n",
      "eccentricity transfer, e_t = 0.23077\n",
      "transfer true anomaly, nu_t = 2.5567 [rad], 146.488 [deg]\n",
      "eccentric anomaly, Ec_t = 2.41383 [rad]\n",
      "time of flight, tof = 1.682744e+07 [s], 194.7621 [days]\n"
     ]
    }
   ],
   "source": [
    "# http://www.braeunig.us/space/interpl.htm\n",
    "# Example 5.1\n",
    "import math\n",
    "\n",
    "mu_sun = 1.327124e11  # [km^3/s^2]\n",
    "r_earth_orb = 149.5978e6  # earth orbit [km]\n",
    "rA = 1.000  # given [AU]\n",
    "rB = 1.524  # given [AU]\n",
    "print(\"Ex5.1, One-Tangent Burn to Mars:\")\n",
    "# atx = (rA + rB) / 2  # for hohmann transfer, typical equation\n",
    "atx = 1.3  # [AU] given transfer semi-major axis\n",
    "a_t = atx * r_earth_orb  # [km]\n",
    "print(f\"atx = {atx:.5g} [AU], {a_t:.6g} [km]\")\n",
    "\n",
    "e_t = 1 - rA / atx  # transfer\n",
    "print(f\"eccentricity transfer, e_t = {e_t:.5g}\")\n",
    "\n",
    "nu_t = math.acos((atx * (1 - e_t**2) / rB - 1) / e_t)\n",
    "print(\n",
    "    f\"transfer true anomaly, nu_t = {nu_t:.5g} [rad], {nu_t * 180 / math.pi:.6g} [deg]\"\n",
    ")\n",
    "\n",
    "Ec_t = math.acos((e_t + math.cos(nu_t)) / (1 + e_t * math.cos(nu_t)))\n",
    "print(f\"eccentric anomaly, Ec_t = {Ec_t:.6g} [rad]\")\n",
    "\n",
    "tof_t = (Ec_t - e_t * math.sin(Ec_t)) * math.sqrt(a_t**3 / mu_sun)\n",
    "print(f\"time of flight, tof = {tof_t:.7g} [s], {tof_t/(3600*24):.7g} [days]\")"
   ]
  }
 ],
 "metadata": {
  "kernelspec": {
   "display_name": ".venv",
   "language": "python",
   "name": "python3"
  },
  "language_info": {
   "codemirror_mode": {
    "name": "ipython",
    "version": 3
   },
   "file_extension": ".py",
   "mimetype": "text/x-python",
   "name": "python",
   "nbconvert_exporter": "python",
   "pygments_lexer": "ipython3",
   "version": "3.12.3"
  }
 },
 "nbformat": 4,
 "nbformat_minor": 2
}
